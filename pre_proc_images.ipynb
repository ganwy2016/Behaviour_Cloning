{
 "cells": [
  {
   "cell_type": "code",
   "execution_count": 5,
   "metadata": {
    "collapsed": false
   },
   "outputs": [],
   "source": [
    "import pandas as pd\n",
    "import pickle\n",
    "import numpy as np\n",
    "from sklearn.model_selection import train_test_split\n",
    "import math\n",
    "\n",
    "from keras.models import Sequential\n",
    "from keras.layers import Dense, Activation\n",
    "import cv2\n",
    "\n",
    "import json\n",
    "import random"
   ]
  },
  {
   "cell_type": "code",
   "execution_count": 6,
   "metadata": {
    "collapsed": false
   },
   "outputs": [
    {
     "name": "stdout",
     "output_type": "stream",
     "text": [
      "center       object\n",
      "left         object\n",
      "right        object\n",
      "steering    float32\n",
      "throttle    float32\n",
      "brake       float32\n",
      "speed       float32\n",
      "dtype: object\n",
      "Training data size =  8036\n",
      "Training labels size =  8036\n",
      "Training throttle size =  8036\n",
      "Training speed size =  8036\n",
      "Data loaded\n"
     ]
    }
   ],
   "source": [
    "# Load the data by reading the logfile\n",
    "\n",
    "data = pd.read_csv('data/data/driving_log.csv',dtype={'center': str, 'left':str,'right':str,\n",
    "                                                      'steering': np.float32,'throttle': np.float32,\n",
    "                                                      'brake': np.float32,'speed': np.float32},\n",
    "                   skipinitialspace=1)\n",
    "                   #converters={'category',\"Price\":int} dtype='category')\n",
    "print(data.dtypes)\n",
    "\n",
    "X_train = data['center']\n",
    "y_train = data['steering']\n",
    "\n",
    "center = data['center']\n",
    "left = data['left']\n",
    "right = data['right']\n",
    "steering = data['steering']\n",
    "throttle = data['throttle']\n",
    "speed=data['speed']\n",
    "brake=data['brake']\n",
    "print('Training data size = ', len(X_train))\n",
    "print('Training labels size = ',len(y_train))\n",
    "print('Training throttle size = ',len(throttle))\n",
    "print('Training speed size = ',len(speed))\n",
    "\n",
    "print('Data loaded')"
   ]
  },
  {
   "cell_type": "code",
   "execution_count": 7,
   "metadata": {
    "collapsed": false
   },
   "outputs": [
    {
     "data": {
      "image/png": "[encoded data removed]",
      "text/plain": [
       "<matplotlib.figure.Figure at 0x7efef37ddd68>"
      ]
     },
     "metadata": {},
     "output_type": "display_data"
    },
    {
     "name": "stdout",
     "output_type": "stream",
     "text": [
      "1.0\n",
      "0.985533\n"
     ]
    }
   ],
   "source": [
    "# examine the data\n",
    "import matplotlib.pyplot as plt\n",
    "fig = plt.figure()\n",
    "ax = fig.add_subplot(2,2,1)\n",
    "plt.hist(throttle,50)\n",
    "ax = fig.add_subplot(2,2,2)\n",
    "plt.hist(steering,50)\n",
    "ax = fig.add_subplot(2,2,3)\n",
    "plt.hist(speed,50)\n",
    "ax = fig.add_subplot(2,2,4)\n",
    "plt.hist(brake,50)\n",
    "plt.show()\n",
    "print(max(brake))\n",
    "print(max(throttle))"
   ]
  },
  {
   "cell_type": "code",
   "execution_count": 8,
   "metadata": {
    "collapsed": false
   },
   "outputs": [
    {
     "name": "stdout",
     "output_type": "stream",
     "text": [
      "crop_images function defined\n"
     ]
    }
   ],
   "source": [
    "def shift_and_crop (filename,steering,direction):\n",
    "    img = cv2.imread(filename)\n",
    "    rows,cols,channels = img.shape\n",
    "    if direction == 'l' or direction == 'left':\n",
    "        M = np.float32([[1,0,-10],[0,1,0]]) # REMEMBER TO ADD STEERING\n",
    "        dst = cv2.warpAffine(img,M,(cols,rows))\n",
    "        crop_img = crop_image(dst)\n",
    "        steering = steering-0.2\n",
    "    else:\n",
    "        M = np.float32([[1,0,10],[0,1,0]]) # REMEMBER TO ADD STEERING\n",
    "        dst = cv2.warpAffine(img,M,(cols,rows))\n",
    "        crop_img = crop_image(dst)\n",
    "        steering = steering+0.2\n",
    "    \n",
    "    return crop_img, steering\n",
    "\n",
    "def crop_image(dst): \n",
    "    crop_img = dst[60:140, 10:310] # original size 320 x 160, final size 300 x 80crop_img\n",
    "    return crop_img\n",
    "\n",
    "print('crop_images function defined')"
   ]
  },
  {
   "cell_type": "code",
   "execution_count": 9,
   "metadata": {
    "collapsed": false
   },
   "outputs": [
    {
     "name": "stdout",
     "output_type": "stream",
     "text": [
      "Saving augmented images. Please wait...\n",
      "Data saved\n"
     ]
    }
   ],
   "source": [
    "# augment data by:\n",
    "# 1) using all images, center, left and righ \n",
    "#     a) crop all images to relevant section (remove car and sky) \n",
    "# 2) duplicate and flip images (invert steering)\n",
    "#     a) crop\n",
    "# 3) shift images to left and right \n",
    "# of all above just save those which fall under the desired probability\n",
    "\n",
    "import random\n",
    "\n",
    "random.seed()\n",
    "count = 0\n",
    "\n",
    "print('Saving augmented images. Please wait...')\n",
    "\n",
    "for i in range(len(center)):\n",
    "#for i in range(10):\n",
    "    # 1) using all images, center, left and righ\n",
    "    new_images = []\n",
    "    new_steering = []\n",
    "#     a) crop all images to relevant section (remove car and sky) \n",
    "\n",
    "    filename = 'data/data/'+center[i]\n",
    "    new_steering.append (steering[i])\n",
    "    img = cv2.imread(filename)\n",
    "    crop_img = crop_image(img)\n",
    "    new_images.append(crop_img)\n",
    "    \n",
    "    new_img, new_st = shift_and_crop (filename,steering[i],'left')\n",
    "    new_images.append(new_img)\n",
    "    new_steering.append(new_st)\n",
    "    \n",
    "    new_img, new_st = shift_and_crop (filename,steering[i],'right')\n",
    "    new_images.append(new_img)\n",
    "    new_steering.append(new_st)\n",
    "    \n",
    "    filename = 'data/data/'+left[i]\n",
    "    new_steering.append(steering[i]+0.2)\n",
    "    img = cv2.imread(filename)\n",
    "    crop_img = crop_image(img)\n",
    "    new_images.append(crop_img)\n",
    "    \n",
    "    new_img, new_st = shift_and_crop (filename,steering[i]+0.2,'left')\n",
    "    new_images.append(new_img)\n",
    "    new_steering.append(new_st)\n",
    "    \n",
    "    new_img, new_st = shift_and_crop (filename,steering[i]+0.2,'right')\n",
    "    new_images.append(new_img)\n",
    "    new_steering.append(new_st)\n",
    "    \n",
    "    filename = 'data/data/'+right[i]\n",
    "    new_steering.append(steering[i]-0.2)\n",
    "    img = cv2.imread(filename)\n",
    "    crop_img = crop_image(img)\n",
    "    new_images.append(crop_img)\n",
    "    \n",
    "    new_img, new_st = shift_and_crop (filename,steering[i]-0.2,'left')\n",
    "    new_images.append(new_img)\n",
    "    new_steering.append(new_st)\n",
    "    \n",
    "    new_img, new_st = shift_and_crop (filename,steering[i]-0.2,'right')\n",
    "    new_images.append(new_img)\n",
    "    new_steering.append(new_st)\n",
    "    assert (len(new_images)==9)\n",
    "    \n",
    "    for j in range(len(new_images)):\n",
    "        # add flipped images\n",
    "        new_images.append(cv2.flip(new_images[j],1))\n",
    "        new_steering.append((new_steering[j])*(-1))\n",
    "\n",
    "    assert (len(new_images)==18)\n",
    "    \n",
    "    # save according to the probability\n",
    "    # higher steering have higher probability of being saved\n",
    "    logfile = open('./data/new_data/new_log.csv','a')\n",
    "    for j in range(len(new_images)):\n",
    "        rand_num = random.random()\n",
    "        #print(rand_num,',',abs(new_steering[j]))\n",
    "        if (abs(new_steering[j])+0.1)>=rand_num:\n",
    "            #save this image to the final set    \n",
    "            filename = 'IMG/image_'+str(count)+'.jpg'\n",
    "            count = count+1\n",
    "            cv2.imwrite('data/new_data/'+filename,new_images[j])\n",
    "            logfile.write(filename+','+str(new_steering[j])+'\\n')\n",
    "\n",
    "    logfile.close()\n",
    "\n",
    "print('Data saved')"
   ]
  },
  {
   "cell_type": "code",
   "execution_count": 10,
   "metadata": {
    "collapsed": false
   },
   "outputs": [
    {
     "name": "stdout",
     "output_type": "stream",
     "text": [
      "Total images saved: 44307\n"
     ]
    }
   ],
   "source": [
    "print('Total images saved:',count)"
   ]
  },
  {
   "cell_type": "code",
   "execution_count": null,
   "metadata": {
    "collapsed": true
   },
   "outputs": [],
   "source": []
  }
 ],
 "metadata": {
  "anaconda-cloud": {},
  "kernelspec": {
   "display_name": "Python [conda env:keras]",
   "language": "python",
   "name": "conda-env-keras-py"
  },
  "language_info": {
   "codemirror_mode": {
    "name": "ipython",
    "version": 3
   },
   "file_extension": ".py",
   "mimetype": "text/x-python",
   "name": "python",
   "nbconvert_exporter": "python",
   "pygments_lexer": "ipython3",
   "version": "3.5.2"
  }
 },
 "nbformat": 4,
 "nbformat_minor": 1
}
