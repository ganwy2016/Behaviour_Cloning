{
 "cells": [
  {
   "cell_type": "markdown",
   "metadata": {},
   "source": [
    "# Overview\n",
    "Steps to build the network:\n",
    "\n",
    "1. Load the training data and do a train/validation split.\n",
    "2. Preprocess data.\n",
    "3. Build a convolutional neural network to classify traffic signs.\n",
    "4. Build a feedforward neural network to classify traffic signs.\n",
    "5. Evaluate performance of final neural network on testing data.\n",
    "\n",
    "Keep an eye on the network’s accuracy over time. Once the accuracy reaches the 98% range, you can be confident that you’ve built and trained an effective model."
   ]
  },
  {
   "cell_type": "code",
   "execution_count": 184,
   "metadata": {
    "collapsed": false
   },
   "outputs": [],
   "source": [
    "import pandas as pd\n",
    "import pickle\n",
    "import numpy as np\n",
    "from sklearn.model_selection import train_test_split\n",
    "import math\n",
    "\n",
    "from keras.models import Sequential\n",
    "from keras.layers import Dense, Activation\n",
    "\n",
    "import json"
   ]
  },
  {
   "cell_type": "markdown",
   "metadata": {},
   "source": [
    "Load the Data"
   ]
  },
  {
   "cell_type": "code",
   "execution_count": 195,
   "metadata": {
    "collapsed": false
   },
   "outputs": [
    {
     "name": "stdout",
     "output_type": "stream",
     "text": [
      "center       object\n",
      "left         object\n",
      "right        object\n",
      "steering    float32\n",
      "throttle    float32\n",
      "brake       float32\n",
      "speed       float32\n",
      "dtype: object\n",
      "Training data size =  8036\n",
      "Training labels size =  8036\n",
      "Data loaded\n"
     ]
    }
   ],
   "source": [
    "# Load the data by reading the logfile\n",
    "\n",
    "data = pd.read_csv('data/data/driving_log.csv',dtype={'center': str, 'left':str,'right':str,'steering': np.float32,'throttle': np.float32,'brake': np.float32,'speed': np.float32})\n",
    "                   #converters={'category',\"Price\":int} dtype='category')\n",
    "print(data.dtypes)\n",
    "\n",
    "X_train = data['center']\n",
    "y_train = data['steering']\n",
    "\n",
    "print('Training data size = ', len(X_train))\n",
    "print('Training labels size = ',len(y_train))\n",
    "print('Data loaded')"
   ]
  },
  {
   "cell_type": "code",
   "execution_count": 196,
   "metadata": {
    "collapsed": false
   },
   "outputs": [
    {
     "data": {
      "image/png": "[encoded data removed]",
      "text/plain": [
       "<matplotlib.figure.Figure at 0x7f4cc795ba58>"
      ]
     },
     "metadata": {},
     "output_type": "display_data"
    }
   ],
   "source": [
    "# examine the data\n",
    "import matplotlib.pyplot as plt\n",
    "plt.hist(y_train,50)\n",
    "plt.show()"
   ]
  },
  {
   "cell_type": "code",
   "execution_count": 197,
   "metadata": {
    "collapsed": false
   },
   "outputs": [
    {
     "name": "stdout",
     "output_type": "stream",
     "text": [
      "Removed all values with steering = 0.0\n"
     ]
    }
   ],
   "source": [
    "# there are a lot of images corresponding to the zero value\n",
    "# we can remove most of them\n",
    "# 1) copy those values to the zero_values array\n",
    "# 2) copy the non zero values to the train_crop array\n",
    "# 3) add just a few random zero values to the final array\n",
    "X_zero_values_array = []\n",
    "y_zero_values_array = []\n",
    "X_train_crop = []\n",
    "y_train_crop = []\n",
    "for i in range(len(X_train)):\n",
    "    if y_train[i] == 0:\n",
    "        X_zero_values_array.append(X_train[i])\n",
    "        y_zero_values_array.append(y_train[i])\n",
    "    else:\n",
    "        X_train_crop.append(X_train[i])\n",
    "        y_train_crop.append(y_train[i])\n",
    "print('Removed all values with steering = 0.0')"
   ]
  },
  {
   "cell_type": "code",
   "execution_count": 198,
   "metadata": {
    "collapsed": false
   },
   "outputs": [
    {
     "name": "stdout",
     "output_type": "stream",
     "text": [
      "Number of elements remaining: 3675\n",
      "Number of elements remaining: 3675\n",
      "Number of elements removed: 4361\n",
      "Number of elements removed: 4361\n"
     ]
    }
   ],
   "source": [
    "def print_num_el():\n",
    "    print ('Number of elements remaining:',len(X_train_crop))\n",
    "    print ('Number of elements remaining:',len(y_train_crop))\n",
    "    print ('Number of elements removed:',len(X_zero_values_array))\n",
    "    print ('Number of elements removed:',len(y_zero_values_array))\n",
    "print_num_el()"
   ]
  },
  {
   "cell_type": "markdown",
   "metadata": {},
   "source": [
    "Higher steering values are very scarce so we need to augment the density of those values in our training set.\n",
    "In order to do so without interfering with the data directly (e.g. by introducing shifts and artificial rotations, flips, etc) we will just add more of those elements with higher steering by duplicating them."
   ]
  },
  {
   "cell_type": "code",
   "execution_count": 199,
   "metadata": {
    "collapsed": false
   },
   "outputs": [
    {
     "data": {
      "image/png": "[encoded data removed]",
      "text/plain": [
       "<matplotlib.figure.Figure at 0x7f4ccc3226d8>"
      ]
     },
     "metadata": {},
     "output_type": "display_data"
    }
   ],
   "source": [
    "X_train_aug = list(X_train_crop)\n",
    "y_train_aug = list(y_train_crop)\n",
    "for i in range(len(y_train_crop)):\n",
    "#   if abs(y_train_crop[i]) > 0.1:\n",
    "#        X_train_aug.append(X_train_crop[i])\n",
    "#        y_train_aug.append(y_train_crop[i])\n",
    "#    if abs(y_train_crop[i]) > 0.2:\n",
    "#        X_train_aug.append(X_train_crop[i])\n",
    "#        y_train_aug.append(y_train_crop[i])\n",
    "    if abs(y_train_crop[i]) > 0.3:\n",
    "        X_train_aug.append(X_train_crop[i])\n",
    "        y_train_aug.append(y_train_crop[i])\n",
    "    if abs(y_train_crop[i]) > 0.4:\n",
    "        X_train_aug.append(X_train_crop[i])\n",
    "        y_train_aug.append(y_train_crop[i])\n",
    "    if abs(y_train_crop[i]) > 0.45:\n",
    "        X_train_aug.append(X_train_crop[i])\n",
    "        y_train_aug.append(y_train_crop[i])\n",
    "    if abs(y_train_crop[i]) > 0.5:\n",
    "        X_train_aug.append(X_train_crop[i])\n",
    "        y_train_aug.append(y_train_crop[i])\n",
    "    if abs(y_train_crop[i]) > 0.55:\n",
    "        X_train_aug.append(X_train_crop[i])\n",
    "        y_train_aug.append(y_train_crop[i])\n",
    "    if abs(y_train_crop[i]) > 0.6:\n",
    "        X_train_aug.append(X_train_crop[i])\n",
    "        y_train_aug.append(y_train_crop[i])\n",
    "    if abs(y_train_crop[i]) > 0.65:\n",
    "        X_train_aug.append(X_train_crop[i])\n",
    "        y_train_aug.append(y_train_crop[i])\n",
    "    if abs(y_train_crop[i]) > 0.7:\n",
    "        X_train_aug.append(X_train_crop[i])\n",
    "        y_train_aug.append(y_train_crop[i])\n",
    "    if abs(y_train_crop[i]) > 0.75:\n",
    "        X_train_aug.append(X_train_crop[i])\n",
    "        y_train_aug.append(y_train_crop[i])\n",
    "    if abs(y_train_crop[i]) > 0.8:\n",
    "        X_train_aug.append(X_train_crop[i])\n",
    "        y_train_aug.append(y_train_crop[i])\n",
    "    if abs(y_train_crop[i]) > 0.85:\n",
    "        X_train_aug.append(X_train_crop[i])\n",
    "        y_train_aug.append(y_train_crop[i])\n",
    "    if abs(y_train_crop[i]) > 0.9:\n",
    "        X_train_aug.append(X_train_crop[i])\n",
    "        y_train_aug.append(y_train_crop[i])\n",
    "    \n",
    "plt.hist(y_train_aug, 50)\n",
    "plt.show()\n"
   ]
  },
  {
   "cell_type": "code",
   "execution_count": 200,
   "metadata": {
    "collapsed": false
   },
   "outputs": [
    {
     "name": "stdout",
     "output_type": "stream",
     "text": [
      "Removed all values with steering between -0.5 and 0.5\n"
     ]
    }
   ],
   "source": [
    "# there are still a lot of images between -0.3 and 0.3\n",
    "# we can remove most of them\n",
    "# 1) copy those values to the zero_values array\n",
    "# 2) copy the non zero values to the train_crop array\n",
    "# 3) add just a few random zero values to the final array\n",
    "X_zero_values_array2 = []\n",
    "y_zero_values_array2 = []\n",
    "X_train_crop2 = []\n",
    "y_train_crop2 = []\n",
    "for i in range(len(X_train_crop)):\n",
    "    if y_train_crop[i] > -0.3 and y_train_crop[i] < 0.3:\n",
    "        X_zero_values_array2.append(X_train_crop[i])\n",
    "        y_zero_values_array2.append(y_train_crop[i])\n",
    "    else:\n",
    "        X_train_crop2.append(X_train_crop[i])\n",
    "        y_train_crop2.append(y_train_crop[i])\n",
    "print('Removed all values with steering between -0.5 and 0.5')"
   ]
  },
  {
   "cell_type": "code",
   "execution_count": 201,
   "metadata": {
    "collapsed": false
   },
   "outputs": [
    {
     "name": "stdout",
     "output_type": "stream",
     "text": [
      "Added back some values with steering between -0.5 and 0.5\n",
      "Number of elements remaining: 3675\n",
      "Number of elements remaining: 3675\n",
      "Number of elements removed: 4361\n",
      "Number of elements removed: 4361\n"
     ]
    }
   ],
   "source": [
    "#add some random values back to the X_train_crop2\n",
    "import random\n",
    "num_to_add = 100\n",
    "random.shuffle(X_zero_values_array2)\n",
    "for i in range(num_to_add):\n",
    "    X_train_crop2.append(X_zero_values_array2[i])\n",
    "    y_train_crop2.append(y_zero_values_array2[i])\n",
    "print('Added back some values with steering between -0.5 and 0.5')\n",
    "print_num_el()"
   ]
  },
  {
   "cell_type": "code",
   "execution_count": 202,
   "metadata": {
    "collapsed": false
   },
   "outputs": [
    {
     "data": {
      "image/png": "[encoded data removed]",
      "text/plain": [
       "<matplotlib.figure.Figure at 0x7f4cc7abaf60>"
      ]
     },
     "metadata": {},
     "output_type": "display_data"
    }
   ],
   "source": [
    "# examine data again\n",
    "plt.hist(y_train_crop,20)\n",
    "plt.show()"
   ]
  },
  {
   "cell_type": "code",
   "execution_count": 204,
   "metadata": {
    "collapsed": false
   },
   "outputs": [
    {
     "data": {
      "image/png": "[encoded data removed]",
      "text/plain": [
       "<matplotlib.figure.Figure at 0x7f4ccc19cba8>"
      ]
     },
     "metadata": {},
     "output_type": "display_data"
    }
   ],
   "source": [
    "# examine data again\n",
    "plt.hist(y_train_crop2,20)\n",
    "plt.show()"
   ]
  },
  {
   "cell_type": "code",
   "execution_count": 205,
   "metadata": {
    "collapsed": false
   },
   "outputs": [
    {
     "name": "stdout",
     "output_type": "stream",
     "text": [
      "Images processed and stored in array\n"
     ]
    }
   ],
   "source": [
    "# preprocess all data and save to pickle files\n",
    "from PIL import Image\n",
    "import pickle\n",
    "    \n",
    "def normalise(im):\n",
    "    width,height = im.size\n",
    "    im = np.array(im.resize((round(width*0.5),round(height*0.5)), Image.ANTIALIAS)) # reduce to half size\n",
    "    im = im/255 - 0.5 # normalise data\n",
    "    return im\n",
    "        \n",
    "def append_pickle (pickle_filename, data):\n",
    "    with open(pickle_filename,'ab') as wfp:\n",
    "        pickle.dump(data, wfp)\n",
    "\n",
    "def process_images (data, pickle_filename):\n",
    "    X_train_im = []\n",
    "    for filename in data:\n",
    "        #print('data/data/'+filename)\n",
    "        im = Image.open('data/data/'+filename)\n",
    "        #plt.imshow(im);\n",
    "        #plt.show()\n",
    "        im = normalise(im)\n",
    "        X_train_im.append(im)\n",
    "    return X_train_im\n",
    "        #append_pickle(pickle_filename, im)\n",
    "    #print('Data saved to pickle file:',pickle_filename)\n",
    "    \n",
    "def process_labels (data, pickle_filename):\n",
    "    append_pickle(pickle_filename, data)\n",
    "    print('Data saved to pickle file:',pickle_filename)\n",
    "\n",
    "X_train_im = process_images (X_train_crop2,'data.p') # note: here images are saved one by one\n",
    "#process_labels (y_train[1:6],'labels.p') # note: labels are saved all in one go\n",
    "print ('Images processed and stored in array')"
   ]
  },
  {
   "cell_type": "code",
   "execution_count": 206,
   "metadata": {
    "collapsed": false
   },
   "outputs": [
    {
     "name": "stdout",
     "output_type": "stream",
     "text": [
      "<class 'list'>\n",
      "<class 'numpy.ndarray'>\n",
      "<class 'list'>\n",
      "<class 'list'>\n"
     ]
    }
   ],
   "source": [
    "from numpy import *\n",
    "print(type(X_train_im))\n",
    "X_train_im = np.array(X_train_im)\n",
    "X_train_im =X_train_im.astype(float32)\n",
    "print(type(X_train_im))\n",
    "print(type(y_train_crop))\n",
    "y_train_crop2 = np.array(y_train_crop2)\n",
    "y_train_crop2 = y_train_crop2.astype(float32)\n",
    "print(type(y_train_crop))"
   ]
  },
  {
   "cell_type": "code",
   "execution_count": 209,
   "metadata": {
    "collapsed": false
   },
   "outputs": [
    {
     "name": "stdout",
     "output_type": "stream",
     "text": [
      "data saved to pickle file\n",
      "labels saved to pickle file\n"
     ]
    }
   ],
   "source": [
    "#save data to pickle files\n",
    "pickle_filename = 'data.p'\n",
    "with open(pickle_filename,'wb') as wfp:\n",
    "    pickle.dump(X_train_im, wfp)\n",
    "print('data saved to pickle file')\n",
    "pickle_filename = 'labels.p'\n",
    "with open(pickle_filename,'wb') as wfp:\n",
    "    pickle.dump(y_train_crop2, wfp)\n",
    "print('labels saved to pickle file')"
   ]
  },
  {
   "cell_type": "code",
   "execution_count": 210,
   "metadata": {
    "collapsed": false
   },
   "outputs": [
    {
     "name": "stdout",
     "output_type": "stream",
     "text": [
      "498\n",
      "498\n"
     ]
    }
   ],
   "source": [
    "import pickle\n",
    "# read data from pickle files\n",
    "\n",
    "with open('data.p','rb') as rfp:\n",
    "    data = pickle.load(rfp)\n",
    "y_train = []\n",
    "with open('labels.p','rb') as rfp:\n",
    "    labels = pickle.load(rfp)\n",
    "print(len(data))\n",
    "print(len(labels))"
   ]
  },
  {
   "cell_type": "code",
   "execution_count": 211,
   "metadata": {
    "collapsed": false
   },
   "outputs": [
    {
     "name": "stdout",
     "output_type": "stream",
     "text": [
      "398\n",
      "Data splitted into train and validation data\n",
      "Training data size =  398\n",
      "Training labels size =  398\n",
      "Validation data size =  100\n",
      "Validation labels size =  100\n"
     ]
    }
   ],
   "source": [
    "from sklearn.model_selection import train_test_split\n",
    "\n",
    "# split data into train, validate and test data\n",
    "X_train, X_val, y_train, y_val = train_test_split(data, labels, test_size=0.2)\n",
    "print(X_train.shape[0])\n",
    "print('Data splitted into train and validation data')\n",
    "print('Training data size = ', len(X_train))\n",
    "print('Training labels size = ',len(y_train))\n",
    "print('Validation data size = ',len(X_val))\n",
    "print('Validation labels size = ',len(y_val))"
   ]
  },
  {
   "cell_type": "code",
   "execution_count": 212,
   "metadata": {
    "collapsed": false
   },
   "outputs": [
    {
     "name": "stdout",
     "output_type": "stream",
     "text": [
      "Input shape: (80, 160, 3)\n",
      "Input size: 80 , 160 , 3\n",
      "____________________________________________________________________________________________________\n",
      "Layer (type)                     Output Shape          Param #     Connected to                     \n",
      "====================================================================================================\n",
      "convolution2d_47 (Convolution2D) (None, 38, 78, 24)    1824        convolution2d_input_16[0][0]     \n",
      "____________________________________________________________________________________________________\n",
      "convolution2d_48 (Convolution2D) (None, 17, 37, 36)    21636       convolution2d_47[0][0]           \n",
      "____________________________________________________________________________________________________\n",
      "convolution2d_49 (Convolution2D) (None, 7, 17, 48)     43248       convolution2d_48[0][0]           \n",
      "____________________________________________________________________________________________________\n",
      "convolution2d_50 (Convolution2D) (None, 5, 15, 64)     27712       convolution2d_49[0][0]           \n",
      "____________________________________________________________________________________________________\n",
      "convolution2d_51 (Convolution2D) (None, 3, 13, 64)     36928       convolution2d_50[0][0]           \n",
      "____________________________________________________________________________________________________\n",
      "flatten_10 (Flatten)             (None, 2496)          0           convolution2d_51[0][0]           \n",
      "____________________________________________________________________________________________________\n",
      "dropout_28 (Dropout)             (None, 2496)          0           flatten_10[0][0]                 \n",
      "____________________________________________________________________________________________________\n",
      "fc1 (Dense)                      (None, 100)           249700      dropout_28[0][0]                 \n",
      "____________________________________________________________________________________________________\n",
      "dropout_29 (Dropout)             (None, 100)           0           fc1[0][0]                        \n",
      "____________________________________________________________________________________________________\n",
      "fc2 (Dense)                      (None, 50)            5050        dropout_29[0][0]                 \n",
      "____________________________________________________________________________________________________\n",
      "dropout_30 (Dropout)             (None, 50)            0           fc2[0][0]                        \n",
      "____________________________________________________________________________________________________\n",
      "fc3 (Dense)                      (None, 10)            510         dropout_30[0][0]                 \n",
      "____________________________________________________________________________________________________\n",
      "output (Dense)                   (None, 1)             11          fc3[0][0]                        \n",
      "====================================================================================================\n",
      "Total params: 386619\n",
      "____________________________________________________________________________________________________\n",
      "Model defined\n"
     ]
    }
   ],
   "source": [
    "from keras.models import Sequential\n",
    "from keras.layers import Conv2D, MaxPooling2D, Dropout, Dense, Flatten\n",
    "from keras.optimizers import Adam\n",
    "# define the model\n",
    "print('Input shape:',(X_train[0].shape))\n",
    "height,width,depth = X_train[0].shape[0],X_train[0].shape[1],X_train[0].shape[2]\n",
    "print('Input size:',height,',',width,',',depth)\n",
    "model = Sequential()\n",
    "#subsample=strides\n",
    "model.add(Conv2D(24, 5, 5,subsample=(2, 2), input_shape=(X_train[0].shape), activation='relu'))\n",
    "model.add(Conv2D(36, 5, 5,subsample=(2, 2), activation='relu'))\n",
    "model.add(Conv2D(48, 5, 5,subsample=(2, 2), activation='relu'))\n",
    "model.add(Conv2D(64, 3, 3,subsample=(1, 1), activation='relu'))\n",
    "model.add(Conv2D(64, 3, 3,subsample=(1, 1), activation='relu'))\n",
    "model.add(Flatten())\n",
    "model.add(Dropout(0.2))\n",
    "model.add(Dense(100, name='fc1', activation='relu'))\n",
    "model.add(Dropout(0.2))\n",
    "model.add(Dense(50, name='fc2', activation='relu'))\n",
    "model.add(Dropout(0.2))\n",
    "model.add(Dense(10, name='fc3', activation='relu'))\n",
    "model.add(Dense(1,name='output'))\n",
    "\n",
    "# other layers we may add\n",
    "#model.add(MaxPooling2D((2,2)))\n",
    "\n",
    "# for a mean squared error regression problem\n",
    "model.compile(optimizer=Adam(lr=0.0001),loss='mean_squared_error')\n",
    "#model.compile(optimizer='rmsprop',loss='mse')\n",
    "model.summary()\n",
    "print('Model defined')"
   ]
  },
  {
   "cell_type": "code",
   "execution_count": 213,
   "metadata": {
    "collapsed": false
   },
   "outputs": [
    {
     "name": "stdout",
     "output_type": "stream",
     "text": [
      "next_batch defined as a data generator\n"
     ]
    }
   ],
   "source": [
    "def next_batch(first_array, second_array, batch_size):\n",
    "    index = np.random.choice(len(first_array), size=batch_size, replace=False)\n",
    "    result_x = []\n",
    "    result_y = []\n",
    "    for id in index:\n",
    "        result_x.append(first_array[id])\n",
    "        result_y.append(second_array[id])\n",
    "    return result_x, result_y\n",
    "\n",
    "print('next_batch defined as a data generator')"
   ]
  },
  {
   "cell_type": "code",
   "execution_count": 214,
   "metadata": {
    "collapsed": false
   },
   "outputs": [
    {
     "name": "stdout",
     "output_type": "stream",
     "text": [
      "next_batch_val defined as a data generator\n"
     ]
    }
   ],
   "source": [
    "def next_batch_val(first_array, second_array, batch_size):\n",
    "    index = np.random.choice(len(first_array), size=batch_size, replace=False)\n",
    "    result_x = []\n",
    "    result_y = []\n",
    "    for id in index:\n",
    "        result_x.append(first_array[id])\n",
    "        result_y.append(second_array[id])\n",
    "    #result = (result_x, result_y)\n",
    "    #yield result_x, result_y\n",
    "    yield result_x, result_y\n",
    "\n",
    "print('next_batch_val defined as a data generator')"
   ]
  },
  {
   "cell_type": "code",
   "execution_count": 215,
   "metadata": {
    "collapsed": false
   },
   "outputs": [
    {
     "name": "stdout",
     "output_type": "stream",
     "text": [
      "\n",
      "Train on 398 samples, validate on 100 samples\n",
      "Epoch 1/50\n",
      "398/398 [==============================] - 2s - loss: 0.1462 - val_loss: 0.1223\n",
      "Epoch 2/50\n",
      "398/398 [==============================] - 1s - loss: 0.1461 - val_loss: 0.1221\n",
      "Epoch 3/50\n",
      "398/398 [==============================] - 1s - loss: 0.1460 - val_loss: 0.1219\n",
      "Epoch 4/50\n",
      "398/398 [==============================] - 1s - loss: 0.1459 - val_loss: 0.1216\n",
      "Epoch 5/50\n",
      "398/398 [==============================] - 1s - loss: 0.1458 - val_loss: 0.1214\n",
      "Epoch 6/50\n",
      "398/398 [==============================] - 1s - loss: 0.1455 - val_loss: 0.1211\n",
      "Epoch 7/50\n",
      "398/398 [==============================] - 1s - loss: 0.1454 - val_loss: 0.1207\n",
      "Epoch 8/50\n",
      "398/398 [==============================] - 1s - loss: 0.1450 - val_loss: 0.1202\n",
      "Epoch 9/50\n",
      "398/398 [==============================] - 1s - loss: 0.1448 - val_loss: 0.1196\n",
      "Epoch 10/50\n",
      "398/398 [==============================] - 1s - loss: 0.1444 - val_loss: 0.1188\n",
      "Epoch 11/50\n",
      "398/398 [==============================] - 1s - loss: 0.1437 - val_loss: 0.1178\n",
      "Epoch 12/50\n",
      "398/398 [==============================] - 1s - loss: 0.1430 - val_loss: 0.1162\n",
      "Epoch 13/50\n",
      "398/398 [==============================] - 1s - loss: 0.1408 - val_loss: 0.1141\n",
      "Epoch 14/50\n",
      "398/398 [==============================] - 1s - loss: 0.1409 - val_loss: 0.1112\n",
      "Epoch 15/50\n",
      "398/398 [==============================] - 1s - loss: 0.1376 - val_loss: 0.1077\n",
      "Epoch 16/50\n",
      "398/398 [==============================] - 1s - loss: 0.1345 - val_loss: 0.1030\n",
      "Epoch 17/50\n",
      "398/398 [==============================] - 1s - loss: 0.1278 - val_loss: 0.0973\n",
      "Epoch 18/50\n",
      "398/398 [==============================] - 1s - loss: 0.1205 - val_loss: 0.0891\n",
      "Epoch 19/50\n",
      "398/398 [==============================] - 1s - loss: 0.1113 - val_loss: 0.0803\n",
      "Epoch 20/50\n",
      "398/398 [==============================] - 1s - loss: 0.1059 - val_loss: 0.0753\n",
      "Epoch 21/50\n",
      "398/398 [==============================] - 1s - loss: 0.1021 - val_loss: 0.0737\n",
      "Epoch 22/50\n",
      "398/398 [==============================] - 1s - loss: 0.0918 - val_loss: 0.0684\n",
      "Epoch 23/50\n",
      "398/398 [==============================] - 1s - loss: 0.0908 - val_loss: 0.0642\n",
      "Epoch 24/50\n",
      "398/398 [==============================] - 1s - loss: 0.0831 - val_loss: 0.0612\n",
      "Epoch 25/50\n",
      "398/398 [==============================] - 1s - loss: 0.0812 - val_loss: 0.0585\n",
      "Epoch 26/50\n",
      "398/398 [==============================] - 1s - loss: 0.0749 - val_loss: 0.0571\n",
      "Epoch 27/50\n",
      "398/398 [==============================] - 1s - loss: 0.0765 - val_loss: 0.0555\n",
      "Epoch 28/50\n",
      "398/398 [==============================] - 1s - loss: 0.0680 - val_loss: 0.0550\n",
      "Epoch 29/50\n",
      "398/398 [==============================] - 1s - loss: 0.0651 - val_loss: 0.0537\n",
      "Epoch 30/50\n",
      "398/398 [==============================] - 1s - loss: 0.0648 - val_loss: 0.0529\n",
      "Epoch 31/50\n",
      "398/398 [==============================] - 1s - loss: 0.0689 - val_loss: 0.0520\n",
      "Epoch 32/50\n",
      "398/398 [==============================] - 1s - loss: 0.0613 - val_loss: 0.0504\n",
      "Epoch 33/50\n",
      "398/398 [==============================] - 1s - loss: 0.0637 - val_loss: 0.0497\n",
      "Epoch 34/50\n",
      "398/398 [==============================] - 1s - loss: 0.0615 - val_loss: 0.0496\n",
      "Epoch 35/50\n",
      "398/398 [==============================] - 1s - loss: 0.0625 - val_loss: 0.0500\n",
      "Epoch 36/50\n",
      "398/398 [==============================] - 1s - loss: 0.0597 - val_loss: 0.0510\n",
      "Epoch 37/50\n",
      "398/398 [==============================] - 1s - loss: 0.0605 - val_loss: 0.0514\n",
      "Epoch 38/50\n",
      "398/398 [==============================] - 1s - loss: 0.0557 - val_loss: 0.0506\n",
      "Epoch 39/50\n",
      "398/398 [==============================] - 1s - loss: 0.0581 - val_loss: 0.0497\n",
      "Epoch 40/50\n",
      "398/398 [==============================] - 1s - loss: 0.0576 - val_loss: 0.0489\n",
      "Epoch 41/50\n",
      "398/398 [==============================] - 1s - loss: 0.0572 - val_loss: 0.0491\n",
      "Epoch 42/50\n",
      "398/398 [==============================] - 1s - loss: 0.0569 - val_loss: 0.0494\n",
      "Epoch 43/50\n",
      "398/398 [==============================] - 1s - loss: 0.0573 - val_loss: 0.0502\n",
      "Epoch 44/50\n",
      "398/398 [==============================] - 1s - loss: 0.0557 - val_loss: 0.0508\n",
      "Epoch 45/50\n",
      "398/398 [==============================] - 1s - loss: 0.0556 - val_loss: 0.0499\n",
      "Epoch 46/50\n",
      "398/398 [==============================] - 1s - loss: 0.0539 - val_loss: 0.0492\n",
      "Epoch 47/50\n",
      "398/398 [==============================] - 1s - loss: 0.0537 - val_loss: 0.0493\n",
      "Epoch 48/50\n",
      "398/398 [==============================] - 1s - loss: 0.0525 - val_loss: 0.0503\n",
      "Epoch 49/50\n",
      "398/398 [==============================] - 1s - loss: 0.0551 - val_loss: 0.0505\n",
      "Epoch 50/50\n",
      "398/398 [==============================] - 1s - loss: 0.0517 - val_loss: 0.0504\n",
      "----------------- Model trained! -----------------\n"
     ]
    }
   ],
   "source": [
    "#train the model\n",
    "print('')\n",
    "iterations = 50\n",
    "train_batch_size = 200\n",
    "val_batch_size = 200\n",
    "history = model.fit(X_train, y_train, batch_size=train_batch_size, nb_epoch=iterations, verbose=1, validation_data=(X_val, y_val))\n",
    "#history = model.fit_generator(next_batch(X_train,y_train,train_batch_size), samples_per_epoch=5000, nb_epoch=iterations,\n",
    "  #                 verbose=1, validation_data=next_batch_val(X_val,y_val,val_batch_size), nb_val_samples=1000)\n",
    "print('----------------- Model trained! -----------------')"
   ]
  },
  {
   "cell_type": "code",
   "execution_count": 216,
   "metadata": {
    "collapsed": false
   },
   "outputs": [
    {
     "name": "stdout",
     "output_type": "stream",
     "text": [
      "0.0504044955969\n"
     ]
    }
   ],
   "source": [
    "# evaluate the model\n",
    "scores = model.evaluate(X_val, y_val, verbose=0)\n",
    "print(scores)"
   ]
  },
  {
   "cell_type": "code",
   "execution_count": 217,
   "metadata": {
    "collapsed": false
   },
   "outputs": [
    {
     "name": "stdout",
     "output_type": "stream",
     "text": [
      "Model saved to file.\n"
     ]
    }
   ],
   "source": [
    "from keras.models import model_from_json\n",
    "\n",
    "# convert model to json format\n",
    "json_string = model.to_json()\n",
    "with open('model.json', 'w') as outfile:\n",
    "    json.dump(json_string, outfile)\n",
    "\n",
    "#save model to files\n",
    "model.save_weights('model.h5')\n",
    "\n",
    "print('Model saved to file.')"
   ]
  },
  {
   "cell_type": "code",
   "execution_count": 80,
   "metadata": {
    "collapsed": false
   },
   "outputs": [],
   "source": [
    "from keras.models import load_model\n",
    "# returns a compiled model\n",
    "# identical to the previous one\n",
    "model = load_model('model.h5')"
   ]
  }
 ],
 "metadata": {
  "anaconda-cloud": {},
  "kernelspec": {
   "display_name": "Python [conda env:keras]",
   "language": "python",
   "name": "conda-env-keras-py"
  },
  "language_info": {
   "codemirror_mode": {
    "name": "ipython",
    "version": 3
   },
   "file_extension": ".py",
   "mimetype": "text/x-python",
   "name": "python",
   "nbconvert_exporter": "python",
   "pygments_lexer": "ipython3",
   "version": "3.5.2"
  }
 },
 "nbformat": 4,
 "nbformat_minor": 1
}
