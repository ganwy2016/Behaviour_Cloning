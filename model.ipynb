{
 "cells": [
  {
   "cell_type": "markdown",
   "metadata": {},
   "source": [
    "# Overview\n",
    "Steps to build the network:\n",
    "\n",
    "1. Load the training data and do a train/validation split.\n",
    "2. Preprocess data.\n",
    "3. Build a convolutional neural network to classify traffic signs.\n",
    "4. Build a feedforward neural network to classify traffic signs.\n",
    "5. Evaluate performance of final neural network on testing data.\n",
    "\n",
    "Keep an eye on the network’s accuracy over time. Once the accuracy reaches the 98% range, you can be confident that you’ve built and trained an effective model."
   ]
  },
  {
   "cell_type": "code",
   "execution_count": 51,
   "metadata": {
    "collapsed": false
   },
   "outputs": [],
   "source": [
    "import pandas as pd\n",
    "import pickle\n",
    "import numpy as np\n",
    "from sklearn.model_selection import train_test_split\n",
    "import math\n",
    "\n",
    "from keras.models import Sequential\n",
    "from keras.layers import Dense, Activation\n",
    "\n",
    "import json"
   ]
  },
  {
   "cell_type": "markdown",
   "metadata": {},
   "source": [
    "Load the Data"
   ]
  },
  {
   "cell_type": "code",
   "execution_count": 52,
   "metadata": {
    "collapsed": false
   },
   "outputs": [
    {
     "name": "stdout",
     "output_type": "stream",
     "text": [
      "center       object\n",
      "left         object\n",
      "right        object\n",
      "steering    float32\n",
      "throttle    float32\n",
      "brake       float32\n",
      "speed       float32\n",
      "dtype: object\n",
      "Training data size =  8036\n",
      "Training labels size =  8036\n",
      "Data loaded\n"
     ]
    }
   ],
   "source": [
    "# Load the data by reading the logfile\n",
    "\n",
    "data = pd.read_csv('data/data/driving_log.csv',dtype={'center': str, 'left':str,'right':str,'steering': np.float32,'throttle': np.float32,'brake': np.float32,'speed': np.float32})\n",
    "                   #converters={'category',\"Price\":int} dtype='category')\n",
    "print(data.dtypes)\n",
    "\n",
    "X_train = data['center']\n",
    "y_train = data['steering']\n",
    "\n",
    "print('Training data size = ', len(X_train))\n",
    "print('Training labels size = ',len(y_train))\n",
    "print('Data loaded')"
   ]
  },
  {
   "cell_type": "code",
   "execution_count": 53,
   "metadata": {
    "collapsed": false
   },
   "outputs": [
    {
     "data": {
      "image/png": "[encoded data removed]",
      "text/plain": [
       "<matplotlib.figure.Figure at 0x7f4d87139160>"
      ]
     },
     "metadata": {},
     "output_type": "display_data"
    }
   ],
   "source": [
    "# examine the data\n",
    "import matplotlib.pyplot as plt\n",
    "plt.hist(y_train,50)\n",
    "plt.show()"
   ]
  },
  {
   "cell_type": "code",
   "execution_count": 54,
   "metadata": {
    "collapsed": false
   },
   "outputs": [
    {
     "name": "stdout",
     "output_type": "stream",
     "text": [
      "Removed all values with steering = 0.0\n"
     ]
    }
   ],
   "source": [
    "# there are a lot of images corresponding to the zero value\n",
    "# we can remove most of them\n",
    "# 1) copy those values to the zero_values array\n",
    "# 2) copy the non zero values to the train_crop array\n",
    "# 3) add just a few random zero values to the final array\n",
    "X_zero_values_array = []\n",
    "y_zero_values_array = []\n",
    "X_train_crop = []\n",
    "y_train_crop = []\n",
    "for i in range(len(X_train)):\n",
    "    if y_train[i] == 0:\n",
    "        X_zero_values_array.append(X_train[i])\n",
    "        y_zero_values_array.append(y_train[i])\n",
    "    else:\n",
    "        X_train_crop.append(X_train[i])\n",
    "        y_train_crop.append(y_train[i])\n",
    "print('Removed all values with steering = 0.0')"
   ]
  },
  {
   "cell_type": "code",
   "execution_count": 55,
   "metadata": {
    "collapsed": false
   },
   "outputs": [
    {
     "name": "stdout",
     "output_type": "stream",
     "text": [
      "Number of elements remaining: 3675\n",
      "Number of elements remaining: 3675\n",
      "Number of elements removed: 4361\n",
      "Number of elements removed: 4361\n"
     ]
    }
   ],
   "source": [
    "def print_num_el():\n",
    "    print ('Number of elements remaining:',len(X_train_crop))\n",
    "    print ('Number of elements remaining:',len(y_train_crop))\n",
    "    print ('Number of elements removed:',len(X_zero_values_array))\n",
    "    print ('Number of elements removed:',len(y_zero_values_array))\n",
    "print_num_el()"
   ]
  },
  {
   "cell_type": "code",
   "execution_count": 56,
   "metadata": {
    "collapsed": false
   },
   "outputs": [
    {
     "name": "stdout",
     "output_type": "stream",
     "text": [
      "Added back 100 values with steering = 0.0\n",
      "Number of elements remaining: 3775\n",
      "Number of elements remaining: 3775\n",
      "Number of elements removed: 4361\n",
      "Number of elements removed: 4361\n"
     ]
    }
   ],
   "source": [
    "#add some random zero values back to the X_train_crop\n",
    "import random\n",
    "random.shuffle(X_zero_values_array)\n",
    "for i in range(100):\n",
    "    X_train_crop.append(X_zero_values_array[i])\n",
    "    y_train_crop.append(0.0)\n",
    "print('Added back 100 values with steering = 0.0')\n",
    "print_num_el()"
   ]
  },
  {
   "cell_type": "code",
   "execution_count": 57,
   "metadata": {
    "collapsed": false
   },
   "outputs": [
    {
     "data": {
      "image/png": "[encoded data removed]",
      "text/plain": [
       "<matplotlib.figure.Figure at 0x7f4d86e385c0>"
      ]
     },
     "metadata": {},
     "output_type": "display_data"
    }
   ],
   "source": [
    "# examine data again\n",
    "plt.hist(y_train_crop,20)\n",
    "plt.show()"
   ]
  },
  {
   "cell_type": "code",
   "execution_count": 58,
   "metadata": {
    "collapsed": false
   },
   "outputs": [
    {
     "name": "stdout",
     "output_type": "stream",
     "text": [
      "Images processed and stored in array\n"
     ]
    }
   ],
   "source": [
    "# preprocess all data and save to pickle files\n",
    "from PIL import Image\n",
    "import pickle\n",
    "    \n",
    "def normalise(im):\n",
    "    width,height = im.size\n",
    "    im = np.array(im.resize((round(width*0.5),round(height*0.5)), Image.ANTIALIAS)) # reduce to half size\n",
    "    im = im/255 - 0.5 # normalise data\n",
    "    return im\n",
    "        \n",
    "def append_pickle (pickle_filename, data):\n",
    "    with open(pickle_filename,'ab') as wfp:\n",
    "        pickle.dump(data, wfp)\n",
    "\n",
    "def process_images (data, pickle_filename):\n",
    "    X_train_im = []\n",
    "    for filename in data:\n",
    "        #print('data/data/'+filename)\n",
    "        im = Image.open('data/data/'+filename)\n",
    "        #plt.imshow(im);\n",
    "        #plt.show()\n",
    "        im = normalise(im)\n",
    "        X_train_im.append(im)\n",
    "    return X_train_im\n",
    "        #append_pickle(pickle_filename, im)\n",
    "    #print('Data saved to pickle file:',pickle_filename)\n",
    "    \n",
    "def process_labels (data, pickle_filename):\n",
    "    append_pickle(pickle_filename, data)\n",
    "    print('Data saved to pickle file:',pickle_filename)\n",
    "\n",
    "X_train_im = process_images (X_train_crop,'data.p') # note: here images are saved one by one\n",
    "#process_labels (y_train[1:6],'labels.p') # note: labels are saved all in one go\n",
    "print ('Images processed and stored in array')"
   ]
  },
  {
   "cell_type": "code",
   "execution_count": 59,
   "metadata": {
    "collapsed": false
   },
   "outputs": [
    {
     "name": "stdout",
     "output_type": "stream",
     "text": [
      "<class 'list'>\n",
      "<class 'numpy.ndarray'>\n",
      "<class 'list'>\n",
      "<class 'numpy.ndarray'>\n"
     ]
    }
   ],
   "source": [
    "from numpy import *\n",
    "print(type(X_train_im))\n",
    "X_train_im = np.array(X_train_im)\n",
    "X_train_im =X_train_im.astype(float32)\n",
    "print(type(X_train_im))\n",
    "print(type(y_train_crop))\n",
    "y_train_crop = np.array(y_train_crop)\n",
    "y_train_crop = y_train_crop.astype(float32)\n",
    "print(type(y_train_crop))"
   ]
  },
  {
   "cell_type": "code",
   "execution_count": 60,
   "metadata": {
    "collapsed": false
   },
   "outputs": [
    {
     "name": "stdout",
     "output_type": "stream",
     "text": [
      "data saved to pickle file\n",
      "labels saved to pickle file\n"
     ]
    }
   ],
   "source": [
    "#save data to pickle files\n",
    "pickle_filename = 'data.p'\n",
    "with open(pickle_filename,'wb') as wfp:\n",
    "    pickle.dump(X_train_im, wfp)\n",
    "print('data saved to pickle file')\n",
    "pickle_filename = 'labels.p'\n",
    "with open(pickle_filename,'wb') as wfp:\n",
    "    pickle.dump(y_train_crop, wfp)\n",
    "print('labels saved to pickle file')"
   ]
  },
  {
   "cell_type": "code",
   "execution_count": 61,
   "metadata": {
    "collapsed": false
   },
   "outputs": [
    {
     "name": "stdout",
     "output_type": "stream",
     "text": [
      "3775\n",
      "3775\n"
     ]
    }
   ],
   "source": [
    "import pickle\n",
    "# read data from pickle files\n",
    "\n",
    "with open('data.p','rb') as rfp:\n",
    "    data = pickle.load(rfp)\n",
    "y_train = []\n",
    "with open('labels.p','rb') as rfp:\n",
    "    labels = pickle.load(rfp)\n",
    "print(len(data))\n",
    "print(len(labels))"
   ]
  },
  {
   "cell_type": "code",
   "execution_count": 62,
   "metadata": {
    "collapsed": false
   },
   "outputs": [
    {
     "name": "stdout",
     "output_type": "stream",
     "text": [
      "3020\n",
      "Data splitted into train and validation data\n",
      "Training data size =  3020\n",
      "Training labels size =  3020\n",
      "Validation data size =  755\n",
      "Validation labels size =  755\n"
     ]
    }
   ],
   "source": [
    "from sklearn.model_selection import train_test_split\n",
    "\n",
    "# split data into train, validate and test data\n",
    "X_train, X_val, y_train, y_val = train_test_split(data, labels, test_size=0.2)\n",
    "print(X_train.shape[0])\n",
    "print('Data splitted into train and validation data')\n",
    "print('Training data size = ', len(X_train))\n",
    "print('Training labels size = ',len(y_train))\n",
    "print('Validation data size = ',len(X_val))\n",
    "print('Validation labels size = ',len(y_val))"
   ]
  },
  {
   "cell_type": "code",
   "execution_count": 85,
   "metadata": {
    "collapsed": false
   },
   "outputs": [
    {
     "name": "stdout",
     "output_type": "stream",
     "text": [
      "Input shape: (80, 160, 3)\n",
      "Input size: 80 , 160 , 3\n",
      "____________________________________________________________________________________________________\n",
      "Layer (type)                     Output Shape          Param #     Connected to                     \n",
      "====================================================================================================\n",
      "convolution2d_22 (Convolution2D) (None, 38, 78, 24)    1824        convolution2d_input_11[0][0]     \n",
      "____________________________________________________________________________________________________\n",
      "convolution2d_23 (Convolution2D) (None, 17, 37, 36)    21636       convolution2d_22[0][0]           \n",
      "____________________________________________________________________________________________________\n",
      "convolution2d_24 (Convolution2D) (None, 7, 17, 48)     43248       convolution2d_23[0][0]           \n",
      "____________________________________________________________________________________________________\n",
      "convolution2d_25 (Convolution2D) (None, 5, 15, 64)     27712       convolution2d_24[0][0]           \n",
      "____________________________________________________________________________________________________\n",
      "convolution2d_26 (Convolution2D) (None, 3, 13, 64)     36928       convolution2d_25[0][0]           \n",
      "____________________________________________________________________________________________________\n",
      "flatten_5 (Flatten)              (None, 2496)          0           convolution2d_26[0][0]           \n",
      "____________________________________________________________________________________________________\n",
      "dropout_13 (Dropout)             (None, 2496)          0           flatten_5[0][0]                  \n",
      "____________________________________________________________________________________________________\n",
      "fc1 (Dense)                      (None, 100)           249700      dropout_13[0][0]                 \n",
      "____________________________________________________________________________________________________\n",
      "dropout_14 (Dropout)             (None, 100)           0           fc1[0][0]                        \n",
      "____________________________________________________________________________________________________\n",
      "fc2 (Dense)                      (None, 50)            5050        dropout_14[0][0]                 \n",
      "____________________________________________________________________________________________________\n",
      "dropout_15 (Dropout)             (None, 50)            0           fc2[0][0]                        \n",
      "____________________________________________________________________________________________________\n",
      "fc3 (Dense)                      (None, 10)            510         dropout_15[0][0]                 \n",
      "____________________________________________________________________________________________________\n",
      "output (Dense)                   (None, 1)             11          fc3[0][0]                        \n",
      "====================================================================================================\n",
      "Total params: 386619\n",
      "____________________________________________________________________________________________________\n",
      "Model defined\n"
     ]
    }
   ],
   "source": [
    "from keras.models import Sequential\n",
    "from keras.layers import Conv2D, MaxPooling2D, Dropout, Dense, Flatten\n",
    "# define the model\n",
    "print('Input shape:',(X_train[0].shape))\n",
    "height,width,depth = X_train[0].shape[0],X_train[0].shape[1],X_train[0].shape[2]\n",
    "print('Input size:',height,',',width,',',depth)\n",
    "model = Sequential()\n",
    "#subsample=strides\n",
    "model.add(Conv2D(24, 5, 5,subsample=(2, 2), input_shape=(X_train[0].shape), activation='relu'))\n",
    "model.add(Conv2D(36, 5, 5,subsample=(2, 2), activation='relu'))\n",
    "model.add(Conv2D(48, 5, 5,subsample=(2, 2), activation='relu'))\n",
    "model.add(Conv2D(64, 3, 3,subsample=(1, 1), activation='relu'))\n",
    "model.add(Conv2D(64, 3, 3,subsample=(1, 1), activation='relu'))\n",
    "model.add(Flatten())\n",
    "model.add(Dropout(0.2))\n",
    "model.add(Dense(100, name='fc1', activation='relu'))\n",
    "model.add(Dropout(0.2))\n",
    "model.add(Dense(50, name='fc2', activation='relu'))\n",
    "model.add(Dropout(0.2))\n",
    "model.add(Dense(10, name='fc3', activation='relu'))\n",
    "model.add(Dense(1,name='output'))\n",
    "\n",
    "# other layers we may add\n",
    "#model.add(MaxPooling2D((2,2)))\n",
    "\n",
    "# for a mean squared error regression problem\n",
    "model.compile(optimizer='adam',loss='mse',metrics=['accuracy'])\n",
    "#model.compile(optimizer='rmsprop',loss='mse')\n",
    "model.summary()\n",
    "print('Model defined')"
   ]
  },
  {
   "cell_type": "code",
   "execution_count": 86,
   "metadata": {
    "collapsed": false
   },
   "outputs": [
    {
     "name": "stdout",
     "output_type": "stream",
     "text": [
      "next_batch defined as a data generator\n"
     ]
    }
   ],
   "source": [
    "def next_batch(first_array, second_array, batch_size):\n",
    "    index = np.random.choice(len(first_array), size=batch_size, replace=False)\n",
    "    result_x = []\n",
    "    result_y = []\n",
    "    for id in index:\n",
    "        result_x.append(first_array[id])\n",
    "        result_y.append(second_array[id])\n",
    "    return result_x, result_y\n",
    "\n",
    "print('next_batch defined as a data generator')"
   ]
  },
  {
   "cell_type": "code",
   "execution_count": 87,
   "metadata": {
    "collapsed": false
   },
   "outputs": [
    {
     "name": "stdout",
     "output_type": "stream",
     "text": [
      "next_batch_val defined as a data generator\n"
     ]
    }
   ],
   "source": [
    "def next_batch_val(first_array, second_array, batch_size):\n",
    "    index = np.random.choice(len(first_array), size=batch_size, replace=False)\n",
    "    result_x = []\n",
    "    result_y = []\n",
    "    for id in index:\n",
    "        result_x.append(first_array[id])\n",
    "        result_y.append(second_array[id])\n",
    "    #result = (result_x, result_y)\n",
    "    #yield result_x, result_y\n",
    "    yield result_x, result_y\n",
    "\n",
    "print('next_batch_val defined as a data generator')"
   ]
  },
  {
   "cell_type": "code",
   "execution_count": 88,
   "metadata": {
    "collapsed": false
   },
   "outputs": [
    {
     "name": "stdout",
     "output_type": "stream",
     "text": [
      "\n",
      "Train on 3020 samples, validate on 755 samples\n",
      "Epoch 1/10\n",
      "3020/3020 [==============================] - 13s - loss: 0.0307 - acc: 0.0278 - val_loss: 0.0228 - val_acc: 0.0212\n",
      "Epoch 2/10\n",
      "3020/3020 [==============================] - 12s - loss: 0.0184 - acc: 0.0278 - val_loss: 0.0170 - val_acc: 0.0212\n",
      "Epoch 3/10\n",
      "3020/3020 [==============================] - 12s - loss: 0.0149 - acc: 0.0278 - val_loss: 0.0164 - val_acc: 0.0212\n",
      "Epoch 4/10\n",
      "3020/3020 [==============================] - 12s - loss: 0.0143 - acc: 0.0278 - val_loss: 0.0166 - val_acc: 0.0212\n",
      "Epoch 5/10\n",
      "3020/3020 [==============================] - 12s - loss: 0.0137 - acc: 0.0278 - val_loss: 0.0162 - val_acc: 0.0212\n",
      "Epoch 6/10\n",
      "3020/3020 [==============================] - 12s - loss: 0.0131 - acc: 0.0278 - val_loss: 0.0161 - val_acc: 0.0212\n",
      "Epoch 7/10\n",
      "3020/3020 [==============================] - 12s - loss: 0.0130 - acc: 0.0278 - val_loss: 0.0159 - val_acc: 0.0212\n",
      "Epoch 8/10\n",
      "3020/3020 [==============================] - 12s - loss: 0.0129 - acc: 0.0278 - val_loss: 0.0162 - val_acc: 0.0212\n",
      "Epoch 9/10\n",
      "3020/3020 [==============================] - 12s - loss: 0.0128 - acc: 0.0278 - val_loss: 0.0159 - val_acc: 0.0212\n",
      "Epoch 10/10\n",
      "3020/3020 [==============================] - 12s - loss: 0.0129 - acc: 0.0278 - val_loss: 0.0163 - val_acc: 0.0212\n",
      "----------------- Model trained! -----------------\n"
     ]
    }
   ],
   "source": [
    "#train the model\n",
    "print('')\n",
    "iterations = 10\n",
    "train_batch_size = 100\n",
    "val_batch_size = 100\n",
    "history = model.fit(X_train, y_train, batch_size=100, nb_epoch=iterations, verbose=1, validation_data=(X_val, y_val))\n",
    "#model.fit_generator(X_train,y_train, samples_per_epoch=5000, nb_epoch=iterations)#,\n",
    "                   #verbose=1, validation_data=next_batch_val(X_val,y_val,val_batch_size), nb_val_samples=1000)\n",
    "print('----------------- Model trained! -----------------')"
   ]
  },
  {
   "cell_type": "code",
   "execution_count": 89,
   "metadata": {
    "collapsed": false
   },
   "outputs": [
    {
     "name": "stdout",
     "output_type": "stream",
     "text": [
      "[0.016320794553107379, 0.02119205298013245]\n"
     ]
    }
   ],
   "source": [
    "# evaluate the model\n",
    "scores = model.evaluate(X_val, y_val, verbose=0)\n",
    "print(scores)"
   ]
  },
  {
   "cell_type": "code",
   "execution_count": 90,
   "metadata": {
    "collapsed": false
   },
   "outputs": [
    {
     "name": "stdout",
     "output_type": "stream",
     "text": [
      "Model saved to file.\n"
     ]
    }
   ],
   "source": [
    "from keras.models import model_from_json\n",
    "\n",
    "# convert model to json format\n",
    "json_string = model.to_json()\n",
    "with open('model.json', 'w') as outfile:\n",
    "    json.dump(json_string, outfile)\n",
    "\n",
    "#save model to files\n",
    "model.save_weights('model.h5')\n",
    "\n",
    "print('Model saved to file.')"
   ]
  },
  {
   "cell_type": "code",
   "execution_count": 80,
   "metadata": {
    "collapsed": false
   },
   "outputs": [],
   "source": [
    "from keras.models import load_model\n",
    "# returns a compiled model\n",
    "# identical to the previous one\n",
    "model = load_model('model.h5')"
   ]
  }
 ],
 "metadata": {
  "anaconda-cloud": {},
  "kernelspec": {
   "display_name": "Python [conda env:keras]",
   "language": "python",
   "name": "conda-env-keras-py"
  },
  "language_info": {
   "codemirror_mode": {
    "name": "ipython",
    "version": 3
   },
   "file_extension": ".py",
   "mimetype": "text/x-python",
   "name": "python",
   "nbconvert_exporter": "python",
   "pygments_lexer": "ipython3",
   "version": "3.5.2"
  }
 },
 "nbformat": 4,
 "nbformat_minor": 1
}
